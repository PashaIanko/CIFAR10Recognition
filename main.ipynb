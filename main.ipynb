{
  "nbformat": 4,
  "nbformat_minor": 0,
  "metadata": {
    "colab": {
      "provenance": [],
      "toc_visible": true,
      "authorship_tag": "ABX9TyN4J/KtHJyGwcNhHUB/kOU5",
      "include_colab_link": true
    },
    "kernelspec": {
      "name": "python3",
      "display_name": "Python 3"
    },
    "language_info": {
      "name": "python"
    },
    "gpuClass": "standard",
    "accelerator": "GPU",
    "widgets": {
      "application/vnd.jupyter.widget-state+json": {
        "49ec523e0e6243649cbe4eafc4c8de90": {
          "model_module": "@jupyter-widgets/controls",
          "model_name": "HBoxModel",
          "model_module_version": "1.5.0",
          "state": {
            "_dom_classes": [],
            "_model_module": "@jupyter-widgets/controls",
            "_model_module_version": "1.5.0",
            "_model_name": "HBoxModel",
            "_view_count": null,
            "_view_module": "@jupyter-widgets/controls",
            "_view_module_version": "1.5.0",
            "_view_name": "HBoxView",
            "box_style": "",
            "children": [
              "IPY_MODEL_c172907cd0c7484b81c4da92360555af",
              "IPY_MODEL_4355faae3de5447aa8abcf5218db3dec",
              "IPY_MODEL_1d9534341d0044b4988e8bfcf93c10ed"
            ],
            "layout": "IPY_MODEL_4bd21b7b4f3a4e54aaaf674114479cab"
          }
        },
        "c172907cd0c7484b81c4da92360555af": {
          "model_module": "@jupyter-widgets/controls",
          "model_name": "HTMLModel",
          "model_module_version": "1.5.0",
          "state": {
            "_dom_classes": [],
            "_model_module": "@jupyter-widgets/controls",
            "_model_module_version": "1.5.0",
            "_model_name": "HTMLModel",
            "_view_count": null,
            "_view_module": "@jupyter-widgets/controls",
            "_view_module_version": "1.5.0",
            "_view_name": "HTMLView",
            "description": "",
            "description_tooltip": null,
            "layout": "IPY_MODEL_f8a7181d8e564a62b20493c0a418ce45",
            "placeholder": "​",
            "style": "IPY_MODEL_2e8955d393124a3eaf5aa02209a9ddbc",
            "value": "100%"
          }
        },
        "4355faae3de5447aa8abcf5218db3dec": {
          "model_module": "@jupyter-widgets/controls",
          "model_name": "FloatProgressModel",
          "model_module_version": "1.5.0",
          "state": {
            "_dom_classes": [],
            "_model_module": "@jupyter-widgets/controls",
            "_model_module_version": "1.5.0",
            "_model_name": "FloatProgressModel",
            "_view_count": null,
            "_view_module": "@jupyter-widgets/controls",
            "_view_module_version": "1.5.0",
            "_view_name": "ProgressView",
            "bar_style": "success",
            "description": "",
            "description_tooltip": null,
            "layout": "IPY_MODEL_7c40f2fa909b4961a74eca2550801177",
            "max": 170498071,
            "min": 0,
            "orientation": "horizontal",
            "style": "IPY_MODEL_54e0a8c56302423b98549f7f9a9953d6",
            "value": 170498071
          }
        },
        "1d9534341d0044b4988e8bfcf93c10ed": {
          "model_module": "@jupyter-widgets/controls",
          "model_name": "HTMLModel",
          "model_module_version": "1.5.0",
          "state": {
            "_dom_classes": [],
            "_model_module": "@jupyter-widgets/controls",
            "_model_module_version": "1.5.0",
            "_model_name": "HTMLModel",
            "_view_count": null,
            "_view_module": "@jupyter-widgets/controls",
            "_view_module_version": "1.5.0",
            "_view_name": "HTMLView",
            "description": "",
            "description_tooltip": null,
            "layout": "IPY_MODEL_94e15e4d5e624982ab227699b7381198",
            "placeholder": "​",
            "style": "IPY_MODEL_c74e06e9931d4b9f91284e3db174865c",
            "value": " 170498071/170498071 [00:03&lt;00:00, 59170530.24it/s]"
          }
        },
        "4bd21b7b4f3a4e54aaaf674114479cab": {
          "model_module": "@jupyter-widgets/base",
          "model_name": "LayoutModel",
          "model_module_version": "1.2.0",
          "state": {
            "_model_module": "@jupyter-widgets/base",
            "_model_module_version": "1.2.0",
            "_model_name": "LayoutModel",
            "_view_count": null,
            "_view_module": "@jupyter-widgets/base",
            "_view_module_version": "1.2.0",
            "_view_name": "LayoutView",
            "align_content": null,
            "align_items": null,
            "align_self": null,
            "border": null,
            "bottom": null,
            "display": null,
            "flex": null,
            "flex_flow": null,
            "grid_area": null,
            "grid_auto_columns": null,
            "grid_auto_flow": null,
            "grid_auto_rows": null,
            "grid_column": null,
            "grid_gap": null,
            "grid_row": null,
            "grid_template_areas": null,
            "grid_template_columns": null,
            "grid_template_rows": null,
            "height": null,
            "justify_content": null,
            "justify_items": null,
            "left": null,
            "margin": null,
            "max_height": null,
            "max_width": null,
            "min_height": null,
            "min_width": null,
            "object_fit": null,
            "object_position": null,
            "order": null,
            "overflow": null,
            "overflow_x": null,
            "overflow_y": null,
            "padding": null,
            "right": null,
            "top": null,
            "visibility": null,
            "width": null
          }
        },
        "f8a7181d8e564a62b20493c0a418ce45": {
          "model_module": "@jupyter-widgets/base",
          "model_name": "LayoutModel",
          "model_module_version": "1.2.0",
          "state": {
            "_model_module": "@jupyter-widgets/base",
            "_model_module_version": "1.2.0",
            "_model_name": "LayoutModel",
            "_view_count": null,
            "_view_module": "@jupyter-widgets/base",
            "_view_module_version": "1.2.0",
            "_view_name": "LayoutView",
            "align_content": null,
            "align_items": null,
            "align_self": null,
            "border": null,
            "bottom": null,
            "display": null,
            "flex": null,
            "flex_flow": null,
            "grid_area": null,
            "grid_auto_columns": null,
            "grid_auto_flow": null,
            "grid_auto_rows": null,
            "grid_column": null,
            "grid_gap": null,
            "grid_row": null,
            "grid_template_areas": null,
            "grid_template_columns": null,
            "grid_template_rows": null,
            "height": null,
            "justify_content": null,
            "justify_items": null,
            "left": null,
            "margin": null,
            "max_height": null,
            "max_width": null,
            "min_height": null,
            "min_width": null,
            "object_fit": null,
            "object_position": null,
            "order": null,
            "overflow": null,
            "overflow_x": null,
            "overflow_y": null,
            "padding": null,
            "right": null,
            "top": null,
            "visibility": null,
            "width": null
          }
        },
        "2e8955d393124a3eaf5aa02209a9ddbc": {
          "model_module": "@jupyter-widgets/controls",
          "model_name": "DescriptionStyleModel",
          "model_module_version": "1.5.0",
          "state": {
            "_model_module": "@jupyter-widgets/controls",
            "_model_module_version": "1.5.0",
            "_model_name": "DescriptionStyleModel",
            "_view_count": null,
            "_view_module": "@jupyter-widgets/base",
            "_view_module_version": "1.2.0",
            "_view_name": "StyleView",
            "description_width": ""
          }
        },
        "7c40f2fa909b4961a74eca2550801177": {
          "model_module": "@jupyter-widgets/base",
          "model_name": "LayoutModel",
          "model_module_version": "1.2.0",
          "state": {
            "_model_module": "@jupyter-widgets/base",
            "_model_module_version": "1.2.0",
            "_model_name": "LayoutModel",
            "_view_count": null,
            "_view_module": "@jupyter-widgets/base",
            "_view_module_version": "1.2.0",
            "_view_name": "LayoutView",
            "align_content": null,
            "align_items": null,
            "align_self": null,
            "border": null,
            "bottom": null,
            "display": null,
            "flex": null,
            "flex_flow": null,
            "grid_area": null,
            "grid_auto_columns": null,
            "grid_auto_flow": null,
            "grid_auto_rows": null,
            "grid_column": null,
            "grid_gap": null,
            "grid_row": null,
            "grid_template_areas": null,
            "grid_template_columns": null,
            "grid_template_rows": null,
            "height": null,
            "justify_content": null,
            "justify_items": null,
            "left": null,
            "margin": null,
            "max_height": null,
            "max_width": null,
            "min_height": null,
            "min_width": null,
            "object_fit": null,
            "object_position": null,
            "order": null,
            "overflow": null,
            "overflow_x": null,
            "overflow_y": null,
            "padding": null,
            "right": null,
            "top": null,
            "visibility": null,
            "width": null
          }
        },
        "54e0a8c56302423b98549f7f9a9953d6": {
          "model_module": "@jupyter-widgets/controls",
          "model_name": "ProgressStyleModel",
          "model_module_version": "1.5.0",
          "state": {
            "_model_module": "@jupyter-widgets/controls",
            "_model_module_version": "1.5.0",
            "_model_name": "ProgressStyleModel",
            "_view_count": null,
            "_view_module": "@jupyter-widgets/base",
            "_view_module_version": "1.2.0",
            "_view_name": "StyleView",
            "bar_color": null,
            "description_width": ""
          }
        },
        "94e15e4d5e624982ab227699b7381198": {
          "model_module": "@jupyter-widgets/base",
          "model_name": "LayoutModel",
          "model_module_version": "1.2.0",
          "state": {
            "_model_module": "@jupyter-widgets/base",
            "_model_module_version": "1.2.0",
            "_model_name": "LayoutModel",
            "_view_count": null,
            "_view_module": "@jupyter-widgets/base",
            "_view_module_version": "1.2.0",
            "_view_name": "LayoutView",
            "align_content": null,
            "align_items": null,
            "align_self": null,
            "border": null,
            "bottom": null,
            "display": null,
            "flex": null,
            "flex_flow": null,
            "grid_area": null,
            "grid_auto_columns": null,
            "grid_auto_flow": null,
            "grid_auto_rows": null,
            "grid_column": null,
            "grid_gap": null,
            "grid_row": null,
            "grid_template_areas": null,
            "grid_template_columns": null,
            "grid_template_rows": null,
            "height": null,
            "justify_content": null,
            "justify_items": null,
            "left": null,
            "margin": null,
            "max_height": null,
            "max_width": null,
            "min_height": null,
            "min_width": null,
            "object_fit": null,
            "object_position": null,
            "order": null,
            "overflow": null,
            "overflow_x": null,
            "overflow_y": null,
            "padding": null,
            "right": null,
            "top": null,
            "visibility": null,
            "width": null
          }
        },
        "c74e06e9931d4b9f91284e3db174865c": {
          "model_module": "@jupyter-widgets/controls",
          "model_name": "DescriptionStyleModel",
          "model_module_version": "1.5.0",
          "state": {
            "_model_module": "@jupyter-widgets/controls",
            "_model_module_version": "1.5.0",
            "_model_name": "DescriptionStyleModel",
            "_view_count": null,
            "_view_module": "@jupyter-widgets/base",
            "_view_module_version": "1.2.0",
            "_view_name": "StyleView",
            "description_width": ""
          }
        }
      }
    }
  },
  "cells": [
    {
      "cell_type": "markdown",
      "metadata": {
        "id": "view-in-github",
        "colab_type": "text"
      },
      "source": [
        "<a href=\"https://colab.research.google.com/github/PashaIanko/CIFAR10Recognition/blob/main/main.ipynb\" target=\"_parent\"><img src=\"https://colab.research.google.com/assets/colab-badge.svg\" alt=\"Open In Colab\"/></a>"
      ]
    },
    {
      "cell_type": "code",
      "execution_count": 10,
      "metadata": {
        "id": "QFONAqi2koRs"
      },
      "outputs": [],
      "source": [
        "# Pytorch functions\n",
        "import torch\n",
        "# Neural network layers\n",
        "import torch.nn as nn\n",
        "import torch.nn.functional as F\n",
        "# Optimizer\n",
        "import torch.optim as optim\n",
        "# Handling dataset\n",
        "import torch.utils.data as data\n",
        "# Torchvision library\n",
        "import torchvision\n",
        "\n",
        "import matplotlib.pyplot as plt\n",
        "import random\n",
        "import numpy as np\n",
        "import copy\n",
        "import time\n",
        "import os\n",
        "import cv2\n",
        "# For results\n",
        "from sklearn.metrics import confusion_matrix\n",
        "from sklearn.metrics import classification_report"
      ]
    },
    {
      "cell_type": "code",
      "source": [
        "from sklearn.model_selection import train_test_split"
      ],
      "metadata": {
        "id": "cV2Au0oruiX2"
      },
      "execution_count": 11,
      "outputs": []
    },
    {
      "cell_type": "markdown",
      "source": [
        "# Helper functions"
      ],
      "metadata": {
        "id": "J_hjsC19kxUa"
      }
    },
    {
      "cell_type": "code",
      "source": [
        "def report(arrs_):\n",
        "    for arr_ in arrs_:\n",
        "        print(np.min(arr_), np.max(arr_))"
      ],
      "metadata": {
        "id": "kfkzgwvKyExm"
      },
      "execution_count": 4,
      "outputs": []
    },
    {
      "cell_type": "code",
      "source": [
        "# def set_seed(seed, use_gpu = True):\n",
        "#     \"\"\"\n",
        "#     Set SEED for PyTorch reproducibility\n",
        "#     \"\"\"\n",
        "#     random.seed(seed)\n",
        "#     np.random.seed(seed)\n",
        "#     torch.manual_seed(seed)\n",
        "#     if use_gpu:\n",
        "#         torch.cuda.manual_seed_all(seed)\n",
        "#         torch.cuda.manual_seed(seed)\n",
        "#         torch.backends.cudnn.deterministic = True\n",
        "#         torch.backends.cudnn.benchmark = False\n",
        "\n",
        "# SEED = 44\n",
        "\n",
        "# USE_SEED = True\n",
        "\n",
        "# if USE_SEED:\n",
        "#     set_seed(SEED, torch.cuda.is_available())"
      ],
      "metadata": {
        "id": "9Ip5ox5fksnC"
      },
      "execution_count": 5,
      "outputs": []
    },
    {
      "cell_type": "code",
      "source": [
        "def get_subsample(X_, Y_, percentage_):\n",
        "    X_sub, _, Y_sub, _ = \\\n",
        "        train_test_split(\n",
        "            X_,\n",
        "            Y_,\n",
        "            train_size=percentage_,\n",
        "            random_state=42,\n",
        "            stratify=Y_\n",
        "        )\n",
        "    return X_sub, Y_sub"
      ],
      "metadata": {
        "id": "wfOuOfUy6s64"
      },
      "execution_count": 6,
      "outputs": []
    },
    {
      "cell_type": "code",
      "source": [
        "def flatten(arr_):\n",
        "    assert len(arr_.shape) == 4\n",
        "    return arr_.reshape(\n",
        "        arr_.shape[0],\n",
        "        arr_.shape[1] * arr_.shape[2] * arr_.shape[3]\n",
        "    )\n",
        "\n",
        "\n",
        "def reshape_back_to_images(arr_):\n",
        "    return arr_.reshape(arr_.shape[0], 32, 32, 3)"
      ],
      "metadata": {
        "id": "qeJETdC86xY3"
      },
      "execution_count": 7,
      "outputs": []
    },
    {
      "cell_type": "markdown",
      "source": [
        "# Download the data"
      ],
      "metadata": {
        "id": "8ldeQWGBk0kX"
      }
    },
    {
      "cell_type": "code",
      "source": [
        "ROOT = './data'\n",
        "train_data = torchvision.datasets.CIFAR10(\n",
        "    root=ROOT,\n",
        "    train=True,\n",
        "    download=True\n",
        ")"
      ],
      "metadata": {
        "colab": {
          "base_uri": "https://localhost:8080/",
          "height": 85,
          "referenced_widgets": [
            "49ec523e0e6243649cbe4eafc4c8de90",
            "c172907cd0c7484b81c4da92360555af",
            "4355faae3de5447aa8abcf5218db3dec",
            "1d9534341d0044b4988e8bfcf93c10ed",
            "4bd21b7b4f3a4e54aaaf674114479cab",
            "f8a7181d8e564a62b20493c0a418ce45",
            "2e8955d393124a3eaf5aa02209a9ddbc",
            "7c40f2fa909b4961a74eca2550801177",
            "54e0a8c56302423b98549f7f9a9953d6",
            "94e15e4d5e624982ab227699b7381198",
            "c74e06e9931d4b9f91284e3db174865c"
          ]
        },
        "id": "42jCua66ky6K",
        "outputId": "d9a9feee-2eb1-43a8-b075-b3ab3cfb0d99"
      },
      "execution_count": 12,
      "outputs": [
        {
          "output_type": "stream",
          "name": "stdout",
          "text": [
            "Downloading https://www.cs.toronto.edu/~kriz/cifar-10-python.tar.gz to ./data/cifar-10-python.tar.gz\n"
          ]
        },
        {
          "output_type": "display_data",
          "data": {
            "text/plain": [
              "  0%|          | 0/170498071 [00:00<?, ?it/s]"
            ],
            "application/vnd.jupyter.widget-view+json": {
              "version_major": 2,
              "version_minor": 0,
              "model_id": "49ec523e0e6243649cbe4eafc4c8de90"
            }
          },
          "metadata": {}
        },
        {
          "output_type": "stream",
          "name": "stdout",
          "text": [
            "Extracting ./data/cifar-10-python.tar.gz to ./data\n"
          ]
        }
      ]
    },
    {
      "cell_type": "code",
      "source": [
        "test_data = torchvision.datasets.CIFAR10(\n",
        "    root=ROOT,\n",
        "    train=False,\n",
        "    download=True,\n",
        "    # transform=test_transforms\n",
        ")"
      ],
      "metadata": {
        "colab": {
          "base_uri": "https://localhost:8080/"
        },
        "id": "Ey83SX9Pmf5h",
        "outputId": "1678b51b-da23-4399-832c-8bc8f21d8197"
      },
      "execution_count": 13,
      "outputs": [
        {
          "output_type": "stream",
          "name": "stdout",
          "text": [
            "Files already downloaded and verified\n"
          ]
        }
      ]
    },
    {
      "cell_type": "code",
      "source": [
        "classes = ('plane', 'car', 'bird', 'cat',\n",
        "           'deer', 'dog', 'frog', 'horse', 'ship', 'truck')"
      ],
      "metadata": {
        "id": "iZx1QsMbk2Zz"
      },
      "execution_count": 14,
      "outputs": []
    },
    {
      "cell_type": "code",
      "source": [
        "train_data.data.shape, type(train_data.data)"
      ],
      "metadata": {
        "colab": {
          "base_uri": "https://localhost:8080/"
        },
        "id": "ys0gzmLulA05",
        "outputId": "80bcf706-2f5d-4245-c781-45e1f33ccccc"
      },
      "execution_count": 15,
      "outputs": [
        {
          "output_type": "execute_result",
          "data": {
            "text/plain": [
              "((50000, 32, 32, 3), numpy.ndarray)"
            ]
          },
          "metadata": {},
          "execution_count": 15
        }
      ]
    },
    {
      "cell_type": "code",
      "source": [
        "test_data.data.shape"
      ],
      "metadata": {
        "colab": {
          "base_uri": "https://localhost:8080/"
        },
        "id": "2GL1ABWjmnPh",
        "outputId": "4e31bb73-8a62-4be9-f5e4-27759557d671"
      },
      "execution_count": 16,
      "outputs": [
        {
          "output_type": "execute_result",
          "data": {
            "text/plain": [
              "(10000, 32, 32, 3)"
            ]
          },
          "metadata": {},
          "execution_count": 16
        }
      ]
    },
    {
      "cell_type": "markdown",
      "source": [
        "# Data exploration"
      ],
      "metadata": {
        "id": "jnv91VDYlIrF"
      }
    },
    {
      "cell_type": "code",
      "source": [
        "img_idx = 15\n",
        "_, ax = plt.subplots()\n",
        "\n",
        "img = train_data[img_idx][0]\n",
        "label = train_data[img_idx][1]\n",
        "ax.imshow(img)\n",
        "\n",
        "ax.set_title(\n",
        "    f'Label: {classes[label]}'\n",
        ")"
      ],
      "metadata": {
        "colab": {
          "base_uri": "https://localhost:8080/",
          "height": 299
        },
        "id": "RW6DPrzHlHIQ",
        "outputId": "107a453a-3b89-4024-8dc3-e0d740f2b5f3"
      },
      "execution_count": 11,
      "outputs": [
        {
          "output_type": "execute_result",
          "data": {
            "text/plain": [
              "Text(0.5, 1.0, 'Label: truck')"
            ]
          },
          "metadata": {},
          "execution_count": 11
        },
        {
          "output_type": "display_data",
          "data": {
            "text/plain": [
              "<Figure size 432x288 with 1 Axes>"
            ],
            "image/png": "[encoded data removed]"
          },
          "metadata": {
            "needs_background": "light"
          }
        }
      ]
    },
    {
      "cell_type": "code",
      "source": [
        "np.min(train_data.data), np.max(train_data.data)"
      ],
      "metadata": {
        "colab": {
          "base_uri": "https://localhost:8080/"
        },
        "id": "tr6OsGPvluQQ",
        "outputId": "7ce616ee-6cf6-4eb1-af52-25ccf335bd7c"
      },
      "execution_count": null,
      "outputs": [
        {
          "output_type": "execute_result",
          "data": {
            "text/plain": [
              "(0, 255)"
            ]
          },
          "metadata": {},
          "execution_count": 195
        }
      ]
    },
    {
      "cell_type": "code",
      "source": [
        "train_mean = train_data.data.mean(axis=(0,1,2)) / 255\n",
        "train_std = train_data.data.std(axis=(0,1,2)) / 255\n",
        "\n",
        "print(\"-----  TRAIN NORMALIZATION VALUES  -----\")\n",
        "print(f\"Mean: {train_mean}\")\n",
        "print(f\"Standard Deviation: {train_std}\")"
      ],
      "metadata": {
        "colab": {
          "base_uri": "https://localhost:8080/"
        },
        "id": "5PjQvoYXl4vk",
        "outputId": "1e2bd003-9093-411e-b165-6cd454cbb979"
      },
      "execution_count": null,
      "outputs": [
        {
          "output_type": "stream",
          "name": "stdout",
          "text": [
            "-----  TRAIN NORMALIZATION VALUES  -----\n",
            "Mean: [0.49139968 0.48215841 0.44653091]\n",
            "Standard Deviation: [0.24703223 0.24348513 0.26158784]\n"
          ]
        }
      ]
    },
    {
      "cell_type": "markdown",
      "source": [
        "# Data split"
      ],
      "metadata": {
        "id": "9tHDntXSueGh"
      }
    },
    {
      "cell_type": "code",
      "source": [
        "TRAIN_PERCENTAGE = 0.9\n",
        "VAL_PERCENTAGE = 0.1\n",
        "RANDOM_STATE = 42\n",
        "assert TRAIN_PERCENTAGE + VAL_PERCENTAGE == 1.0\n",
        "\n",
        "N_TRAIN_EXAMPLES = int(len(train_data) * TRAIN_PERCENTAGE)\n",
        "N_VALIDATION_EXAMPLES = len(train_data) - N_TRAIN_EXAMPLES"
      ],
      "metadata": {
        "id": "j3MhJI8Dufb5"
      },
      "execution_count": 17,
      "outputs": []
    },
    {
      "cell_type": "code",
      "source": [
        "train_labels = np.array([train_data[i][1] for i in range(len(train_data))])"
      ],
      "metadata": {
        "id": "arEBl9gqvxoY"
      },
      "execution_count": 18,
      "outputs": []
    },
    {
      "cell_type": "code",
      "source": [
        "assert len(np.unique(train_labels)) == 10\n",
        "train_labels.shape, train_data.data.shape"
      ],
      "metadata": {
        "colab": {
          "base_uri": "https://localhost:8080/"
        },
        "id": "uQVuInYmwLBJ",
        "outputId": "a1e7af00-40df-4e2b-e197-037e5a1ae3cf"
      },
      "execution_count": 19,
      "outputs": [
        {
          "output_type": "execute_result",
          "data": {
            "text/plain": [
              "((50000,), (50000, 32, 32, 3))"
            ]
          },
          "metadata": {},
          "execution_count": 19
        }
      ]
    },
    {
      "cell_type": "code",
      "source": [
        "X_test = test_data.data\n",
        "Y_test = np.array([test_data[i][1] for i in range(len(test_data))])\n",
        "Y_test.shape, X_test.shape"
      ],
      "metadata": {
        "colab": {
          "base_uri": "https://localhost:8080/"
        },
        "id": "Rdlr8japySjB",
        "outputId": "45934f02-7ddc-4ace-d9d9-f6c89509e056"
      },
      "execution_count": 20,
      "outputs": [
        {
          "output_type": "execute_result",
          "data": {
            "text/plain": [
              "((10000,), (10000, 32, 32, 3))"
            ]
          },
          "metadata": {},
          "execution_count": 20
        }
      ]
    },
    {
      "cell_type": "code",
      "source": [
        "X_train, X_validation, Y_train, Y_validation = \\\n",
        "    train_test_split(\n",
        "        train_data.data,\n",
        "        train_labels,\n",
        "        train_size=TRAIN_PERCENTAGE,\n",
        "        random_state=42,\n",
        "        stratify=train_labels\n",
        "    )"
      ],
      "metadata": {
        "id": "fETBX78lwjWy"
      },
      "execution_count": 21,
      "outputs": []
    },
    {
      "cell_type": "code",
      "source": [
        "X_train.shape, X_validation.shape, Y_train.shape, Y_validation.shape"
      ],
      "metadata": {
        "colab": {
          "base_uri": "https://localhost:8080/"
        },
        "id": "ZfTPkDUPw4Aw",
        "outputId": "a6f086f0-63d3-43a5-d351-64dc44e6cc15"
      },
      "execution_count": 22,
      "outputs": [
        {
          "output_type": "execute_result",
          "data": {
            "text/plain": [
              "((45000, 32, 32, 3), (5000, 32, 32, 3), (45000,), (5000,))"
            ]
          },
          "metadata": {},
          "execution_count": 22
        }
      ]
    },
    {
      "cell_type": "markdown",
      "source": [
        "# Data preprocessing"
      ],
      "metadata": {
        "id": "QvOof35SmVc5"
      }
    },
    {
      "cell_type": "code",
      "source": [
        "from sklearn.preprocessing import StandardScaler"
      ],
      "metadata": {
        "id": "qRdGcF-vmASN"
      },
      "execution_count": 18,
      "outputs": []
    },
    {
      "cell_type": "code",
      "source": [
        "scaler = StandardScaler()"
      ],
      "metadata": {
        "id": "u-7nv1yjywKd"
      },
      "execution_count": 21,
      "outputs": []
    },
    {
      "cell_type": "code",
      "source": [
        "X_train = reshape_back_to_images(\n",
        "    scaler.fit_transform(flatten(X_train)))\n",
        "\n",
        "X_validation = reshape_back_to_images(\n",
        "    scaler.transform(flatten(X_validation)))\n",
        "\n",
        "X_test = reshape_back_to_images(\n",
        "    scaler.transform(flatten(X_test)))"
      ],
      "metadata": {
        "id": "vJdiAMgxx7_t"
      },
      "execution_count": 22,
      "outputs": []
    },
    {
      "cell_type": "code",
      "source": [
        "assert len(np.unique(Y_train)) == 10\n",
        "assert len(np.unique(Y_validation)) == 10\n",
        "assert len(np.unique(Y_test)) == 10"
      ],
      "metadata": {
        "id": "jUr6dRA03eth"
      },
      "execution_count": 23,
      "outputs": []
    },
    {
      "cell_type": "code",
      "source": [
        "def check_data(arrs_):\n",
        "    for arr_ in arrs_:\n",
        "        assert np.max(arr_) <= 3 and np.min(arr_) >= -3\n",
        "\n",
        "check_data([X_train, X_validation, X_test])"
      ],
      "metadata": {
        "id": "0gSAJeemuV-C"
      },
      "execution_count": 27,
      "outputs": []
    },
    {
      "cell_type": "code",
      "source": [
        "from sklearn.preprocessing import OneHotEncoder\n",
        "\n",
        "encoder = OneHotEncoder()\n",
        "Y_train = encoder.fit_transform(Y_train.reshape(-1, 1)).toarray()\n",
        "Y_validation = encoder.transform(Y_validation.reshape(-1, 1)).toarray()\n",
        "Y_test = encoder.transform(Y_test.reshape(-1, 1)).toarray()"
      ],
      "metadata": {
        "id": "8DiQnl3L3nrB"
      },
      "execution_count": 28,
      "outputs": []
    },
    {
      "cell_type": "code",
      "source": [
        "idx = 172\n",
        "_, ax = plt.subplots(1, 6)\n",
        "ax[0].imshow(X_train[idx])\n",
        "# ax[1].imshow(train_data[idx][0])\n",
        "\n",
        "ax[2].imshow(X_validation[idx])\n",
        "#ax[3].imshow(X_validation_scaled[idx])\n",
        "\n",
        "ax[4].imshow(X_test[idx])\n",
        "# ax[5].imshow(X_test_scaled[idx])"
      ],
      "metadata": {
        "colab": {
          "base_uri": "https://localhost:8080/",
          "height": 361
        },
        "id": "VpKSyJyBz8Em",
        "outputId": "39b00928-6551-4d15-cf4e-b87a2c4b1527"
      },
      "execution_count": 29,
      "outputs": [
        {
          "output_type": "stream",
          "name": "stderr",
          "text": [
            "WARNING:matplotlib.image:Clipping input data to the valid range for imshow with RGB data ([0..1] for floats or [0..255] for integers).\n",
            "WARNING:matplotlib.image:Clipping input data to the valid range for imshow with RGB data ([0..1] for floats or [0..255] for integers).\n",
            "WARNING:matplotlib.image:Clipping input data to the valid range for imshow with RGB data ([0..1] for floats or [0..255] for integers).\n"
          ]
        },
        {
          "output_type": "execute_result",
          "data": {
            "text/plain": [
              "<matplotlib.image.AxesImage at 0x7f6d23ecbd60>"
            ]
          },
          "metadata": {},
          "execution_count": 29
        },
        {
          "output_type": "display_data",
          "data": {
            "text/plain": [
              "<Figure size 432x288 with 6 Axes>"
            ],
            "image/png": "[encoded data removed]"
          },
          "metadata": {
            "needs_background": "light"
          }
        }
      ]
    },
    {
      "cell_type": "code",
      "source": [
        "X_train_subsample, Y_train_subsample = \\\n",
        "    get_subsample(X_train, Y_train, 0.3)\n",
        "\n",
        "check_data([X_train_subsample])\n",
        "\n",
        "X_train_subsample.shape, Y_train_subsample.shape"
      ],
      "metadata": {
        "colab": {
          "base_uri": "https://localhost:8080/"
        },
        "id": "S0acYejX62Zw",
        "outputId": "8e02a584-f647-4fb7-c269-5caa2fe54d5f"
      },
      "execution_count": 30,
      "outputs": [
        {
          "output_type": "execute_result",
          "data": {
            "text/plain": [
              "((13500, 32, 32, 3), (13500, 10))"
            ]
          },
          "metadata": {},
          "execution_count": 30
        }
      ]
    },
    {
      "cell_type": "code",
      "source": [
        "X_validation_subsample, Y_validation_subsample = \\\n",
        "    get_subsample(X_validation, Y_validation, 0.3)\n",
        "\n",
        "check_data([X_validation_subsample])\n",
        "\n",
        "X_validation_subsample.shape, Y_validation_subsample.shape"
      ],
      "metadata": {
        "colab": {
          "base_uri": "https://localhost:8080/"
        },
        "id": "cswPwEWL7QGg",
        "outputId": "94265643-86bf-4cf6-a353-8bf0715fcc47"
      },
      "execution_count": 31,
      "outputs": [
        {
          "output_type": "execute_result",
          "data": {
            "text/plain": [
              "((1500, 32, 32, 3), (1500, 10))"
            ]
          },
          "metadata": {},
          "execution_count": 31
        }
      ]
    },
    {
      "cell_type": "markdown",
      "source": [
        "# Baseline"
      ],
      "metadata": {
        "id": "HIK6ziyJy1Fz"
      }
    },
    {
      "cell_type": "code",
      "source": [
        "from tensorflow.keras.models import Sequential"
      ],
      "metadata": {
        "id": "3V67S3BW1zIT"
      },
      "execution_count": null,
      "outputs": []
    },
    {
      "cell_type": "code",
      "source": [
        "from tensorflow.keras.layers import (\n",
        "    Input,\n",
        "    Dense,\n",
        "    Conv2D,\n",
        "    MaxPool2D,\n",
        "    Dropout,\n",
        "    BatchNormalization,\n",
        "    Flatten\n",
        ")\n",
        "from functools import partial"
      ],
      "metadata": {
        "id": "IKTuWqD113eB"
      },
      "execution_count": null,
      "outputs": []
    },
    {
      "cell_type": "code",
      "source": [
        "conv_layer = partial(\n",
        "    Conv2D,\n",
        "    activation='relu',\n",
        "    kernel_initializer='he_normal',\n",
        "    kernel_size=(3, 3)\n",
        ")"
      ],
      "metadata": {
        "id": "w3nB3XlQ2MJ8"
      },
      "execution_count": null,
      "outputs": []
    },
    {
      "cell_type": "code",
      "source": [
        "baseline_cnn = Sequential(\n",
        "    [\n",
        "        Input(shape=(32, 32, 3)),\n",
        "\n",
        "        conv_layer(filters=32),\n",
        "        conv_layer(filters=64),\n",
        "        MaxPool2D(pool_size=(2, 2)),\n",
        "     \n",
        "        conv_layer(filters=128),\n",
        "        MaxPool2D(pool_size=(2, 2)),\n",
        "     \n",
        "        conv_layer(filters=256),\n",
        "        conv_layer(filters=256),\n",
        "        MaxPool2D(pool_size=(2, 2)),\n",
        "     \n",
        "        Flatten(),\n",
        "        # Dropout(0.2),\n",
        "        Dense(300, activation='relu', kernel_initializer='he_normal'),\n",
        "        Dropout(0.2),\n",
        "        Dense(100, activation='relu', kernel_initializer='he_normal'),\n",
        "        Dropout(0.2),\n",
        "        Dense(10, activation='softmax')\n",
        "    ]\n",
        ")"
      ],
      "metadata": {
        "id": "nxOutJaY2BC7",
        "outputId": "672b6827-04d3-4edf-f499-2ac0ebb8ab68",
        "colab": {
          "base_uri": "https://localhost:8080/",
          "height": 242
        }
      },
      "execution_count": 101,
      "outputs": [
        {
          "output_type": "error",
          "ename": "NameError",
          "evalue": "ignored",
          "traceback": [
            "\u001b[0;31m---------------------------------------------------------------------------\u001b[0m",
            "\u001b[0;31mNameError\u001b[0m                                 Traceback (most recent call last)",
            "\u001b[0;32m<ipython-input-101-dbb4a4780cb5>\u001b[0m in \u001b[0;36m<module>\u001b[0;34m\u001b[0m\n\u001b[1;32m      1\u001b[0m baseline_cnn = Sequential(\n\u001b[1;32m      2\u001b[0m     [\n\u001b[0;32m----> 3\u001b[0;31m         \u001b[0mInput\u001b[0m\u001b[0;34m(\u001b[0m\u001b[0mshape\u001b[0m\u001b[0;34m=\u001b[0m\u001b[0;34m(\u001b[0m\u001b[0;36m32\u001b[0m\u001b[0;34m,\u001b[0m \u001b[0;36m32\u001b[0m\u001b[0;34m,\u001b[0m \u001b[0;36m3\u001b[0m\u001b[0;34m)\u001b[0m\u001b[0;34m)\u001b[0m\u001b[0;34m,\u001b[0m\u001b[0;34m\u001b[0m\u001b[0;34m\u001b[0m\u001b[0m\n\u001b[0m\u001b[1;32m      4\u001b[0m \u001b[0;34m\u001b[0m\u001b[0m\n\u001b[1;32m      5\u001b[0m         \u001b[0mconv_layer\u001b[0m\u001b[0;34m(\u001b[0m\u001b[0mfilters\u001b[0m\u001b[0;34m=\u001b[0m\u001b[0;36m32\u001b[0m\u001b[0;34m)\u001b[0m\u001b[0;34m,\u001b[0m\u001b[0;34m\u001b[0m\u001b[0;34m\u001b[0m\u001b[0m\n",
            "\u001b[0;31mNameError\u001b[0m: name 'Input' is not defined"
          ]
        }
      ]
    },
    {
      "cell_type": "code",
      "source": [
        "baseline_cnn.compile(\n",
        "    optimizer='adam',\n",
        "    loss='sparse_categorical_crossentropy',\n",
        "    metrics=['accuracy']\n",
        ")"
      ],
      "metadata": {
        "id": "BfMvOB4yzkRA",
        "outputId": "fb299e25-5cef-4ac0-8cbb-83b62a613d49",
        "colab": {
          "base_uri": "https://localhost:8080/",
          "height": 242
        }
      },
      "execution_count": 102,
      "outputs": [
        {
          "output_type": "error",
          "ename": "NameError",
          "evalue": "ignored",
          "traceback": [
            "\u001b[0;31m---------------------------------------------------------------------------\u001b[0m",
            "\u001b[0;31mNameError\u001b[0m                                 Traceback (most recent call last)",
            "\u001b[0;32m<ipython-input-102-5e2bb45464c4>\u001b[0m in \u001b[0;36m<module>\u001b[0;34m\u001b[0m\n\u001b[0;32m----> 1\u001b[0;31m baseline_cnn.compile(\n\u001b[0m\u001b[1;32m      2\u001b[0m     \u001b[0moptimizer\u001b[0m\u001b[0;34m=\u001b[0m\u001b[0;34m'adam'\u001b[0m\u001b[0;34m,\u001b[0m\u001b[0;34m\u001b[0m\u001b[0;34m\u001b[0m\u001b[0m\n\u001b[1;32m      3\u001b[0m     \u001b[0mloss\u001b[0m\u001b[0;34m=\u001b[0m\u001b[0;34m'sparse_categorical_crossentropy'\u001b[0m\u001b[0;34m,\u001b[0m\u001b[0;34m\u001b[0m\u001b[0;34m\u001b[0m\u001b[0m\n\u001b[1;32m      4\u001b[0m     \u001b[0mmetrics\u001b[0m\u001b[0;34m=\u001b[0m\u001b[0;34m[\u001b[0m\u001b[0;34m'accuracy'\u001b[0m\u001b[0;34m]\u001b[0m\u001b[0;34m\u001b[0m\u001b[0;34m\u001b[0m\u001b[0m\n\u001b[1;32m      5\u001b[0m )\n",
            "\u001b[0;31mNameError\u001b[0m: name 'baseline_cnn' is not defined"
          ]
        }
      ]
    },
    {
      "cell_type": "code",
      "source": [
        "from tensorflow.keras.callbacks import EarlyStopping\n",
        "\n",
        "history = baseline_cnn.fit(\n",
        "    X_train_subsample,\n",
        "    Y_train_subsample,\n",
        "    validation_data=(X_validation_subsample, Y_validation_subsample),\n",
        "    epochs=20,\n",
        "    batch_size=32,\n",
        "    callbacks=[\n",
        "        EarlyStopping(\n",
        "            monitor='val_loss',\n",
        "            mode='min',\n",
        "            patience=3\n",
        "        )\n",
        "    ]\n",
        ")"
      ],
      "metadata": {
        "colab": {
          "base_uri": "https://localhost:8080/"
        },
        "id": "j2ZteABn3ZHK",
        "outputId": "47c0d300-257f-48fc-bfc3-fa7e0f86dc0a"
      },
      "execution_count": null,
      "outputs": [
        {
          "output_type": "stream",
          "name": "stdout",
          "text": [
            "Epoch 1/20\n",
            "422/422 [==============================] - 137s 322ms/step - loss: 1.9062 - accuracy: 0.3042 - val_loss: 1.5063 - val_accuracy: 0.4527\n",
            "Epoch 2/20\n",
            "422/422 [==============================] - 124s 294ms/step - loss: 1.4469 - accuracy: 0.4802 - val_loss: 1.3317 - val_accuracy: 0.5247\n",
            "Epoch 3/20\n",
            "306/422 [====================>.........] - ETA: 34s - loss: 1.2340 - accuracy: 0.5632"
          ]
        }
      ]
    },
    {
      "cell_type": "markdown",
      "source": [
        "# Transfer learning resnet 50"
      ],
      "metadata": {
        "id": "uNQSg2Agu1d6"
      }
    },
    {
      "cell_type": "markdown",
      "source": [
        "## Data preprocessing"
      ],
      "metadata": {
        "id": "5yfZrUaCzl6Y"
      }
    },
    {
      "cell_type": "code",
      "source": [
        "report([train_data.data])\n",
        "train_data.data.shape"
      ],
      "metadata": {
        "id": "P897Y7j90I-K",
        "outputId": "3ebd91df-275b-4781-cee5-77a694b426aa",
        "colab": {
          "base_uri": "https://localhost:8080/"
        }
      },
      "execution_count": 23,
      "outputs": [
        {
          "output_type": "stream",
          "name": "stdout",
          "text": [
            "0 255\n"
          ]
        },
        {
          "output_type": "execute_result",
          "data": {
            "text/plain": [
              "(50000, 32, 32, 3)"
            ]
          },
          "metadata": {},
          "execution_count": 23
        }
      ]
    },
    {
      "cell_type": "code",
      "source": [
        "from tensorflow.keras.applications.resnet50 import \\\n",
        "    preprocess_input as resnet_preprocess\n",
        "\n",
        "train_data_resnet = resnet_preprocess(train_data.data)\n",
        "test_data_resnet = resnet_preprocess(test_data.data)"
      ],
      "metadata": {
        "id": "Xr_ilsLqyojp"
      },
      "execution_count": 24,
      "outputs": []
    },
    {
      "cell_type": "code",
      "source": [
        "train_labels_resnet = np.array([item[1] for item in train_data])\n",
        "print(np.unique(train_labels_resnet))"
      ],
      "metadata": {
        "id": "Kvy33mO8z5yh",
        "outputId": "274456be-292e-4c95-f184-e2868ffdb8ce",
        "colab": {
          "base_uri": "https://localhost:8080/"
        }
      },
      "execution_count": 25,
      "outputs": [
        {
          "output_type": "stream",
          "name": "stdout",
          "text": [
            "[0 1 2 3 4 5 6 7 8 9]\n"
          ]
        }
      ]
    },
    {
      "cell_type": "code",
      "source": [
        "test_labels_resnet = np.array([item[1] for item in test_data])"
      ],
      "metadata": {
        "id": "-AktU8PH0tOG"
      },
      "execution_count": 26,
      "outputs": []
    },
    {
      "cell_type": "code",
      "source": [
        "train_data_resnet.shape, train_labels_resnet.shape"
      ],
      "metadata": {
        "id": "hWRuhnrXz-fC",
        "outputId": "b9f33509-bddf-44d1-a806-3fd2a7b85c12",
        "colab": {
          "base_uri": "https://localhost:8080/"
        }
      },
      "execution_count": 27,
      "outputs": [
        {
          "output_type": "execute_result",
          "data": {
            "text/plain": [
              "((50000, 32, 32, 3), (50000,))"
            ]
          },
          "metadata": {},
          "execution_count": 27
        }
      ]
    },
    {
      "cell_type": "code",
      "source": [
        "X_train_resnet, X_validation_resnet, Y_train_resnet, Y_validation_resnet = \\\n",
        "    train_test_split(\n",
        "        train_data_resnet,\n",
        "        train_labels_resnet,\n",
        "        train_size=TRAIN_PERCENTAGE,\n",
        "        random_state=42,\n",
        "        stratify=train_labels_resnet\n",
        "    )"
      ],
      "metadata": {
        "id": "Ey6RIRC30l-h"
      },
      "execution_count": 28,
      "outputs": []
    },
    {
      "cell_type": "code",
      "source": [
        "report(\n",
        "    [X_train_resnet, X_validation_resnet, test_data_resnet]\n",
        ")"
      ],
      "metadata": {
        "id": "1aptokFu1Hsy",
        "outputId": "319ad073-f4e7-4985-bc7d-7bc7b5690352",
        "colab": {
          "base_uri": "https://localhost:8080/"
        }
      },
      "execution_count": 29,
      "outputs": [
        {
          "output_type": "stream",
          "name": "stdout",
          "text": [
            "-123.68 151.061\n",
            "-123.68 151.061\n",
            "-123.68 151.061\n"
          ]
        }
      ]
    },
    {
      "cell_type": "code",
      "source": [
        "SUBSAMPLE_PERCENTAGE = 0.1\n",
        "\n",
        "X_train_subsample, _, Y_train_subsample, _ = \\\n",
        "    train_test_split(\n",
        "        train_data_resnet,\n",
        "        train_labels_resnet,\n",
        "        train_size=SUBSAMPLE_PERCENTAGE,\n",
        "        random_state=42,\n",
        "        stratify=train_labels_resnet\n",
        "    )\n",
        "\n",
        "_, X_validation_subsample, _, Y_validation_subsample = \\\n",
        "    train_test_split(\n",
        "        train_data_resnet,\n",
        "        train_labels_resnet,\n",
        "        train_size=SUBSAMPLE_PERCENTAGE,\n",
        "        random_state=42,\n",
        "        stratify=train_labels_resnet\n",
        "    )\n"
      ],
      "metadata": {
        "id": "vfWb-QRS1Q0J"
      },
      "execution_count": 30,
      "outputs": []
    },
    {
      "cell_type": "markdown",
      "source": [
        "## Building and running model"
      ],
      "metadata": {
        "id": "M0_n9CYNzn3G"
      }
    },
    {
      "cell_type": "code",
      "source": [
        "from tensorflow.keras.applications import ResNet50\n",
        "from tensorflow.keras.models import Sequential\n",
        "from tensorflow.keras.optimizers import Adam\n",
        "from tensorflow.keras.callbacks import EarlyStopping\n",
        "from tensorflow.keras.layers import (\n",
        "    Flatten,\n",
        "    Dense,\n",
        "    Dropout\n",
        ")\n",
        "\n",
        "\n",
        "resnet = Sequential()\n",
        "resnet.add(\n",
        "    ResNet50(\n",
        "        include_top=False,\n",
        "        input_shape=(32, 32, 3),\n",
        "        weights='imagenet',\n",
        "        pooling='avg'\n",
        "    )\n",
        ")\n",
        "resnet.add(Flatten())\n",
        "resnet.add(Dropout(0.2))\n",
        "resnet.add(Dense(units=300, activation='relu'))\n",
        "resnet.add(Dropout(0.2))\n",
        "resnet.add(Dense(units=200, activation='relu'))\n",
        "resnet.add(Dropout(0.2))\n",
        "# resnet.add(Dense(units=100, activation='relu'))\n",
        "# resnet.add()\n",
        "resnet.add(Dense(units=10, activation='softmax'))"
      ],
      "metadata": {
        "id": "JilpLsdru38m",
        "outputId": "bbf73622-0e8c-4b08-880b-07041f3f28f9",
        "colab": {
          "base_uri": "https://localhost:8080/"
        }
      },
      "execution_count": 31,
      "outputs": [
        {
          "output_type": "stream",
          "name": "stdout",
          "text": [
            "Downloading data from https://storage.googleapis.com/tensorflow/keras-applications/resnet/resnet50_weights_tf_dim_ordering_tf_kernels_notop.h5\n",
            "94765736/94765736 [==============================] - 0s 0us/step\n"
          ]
        }
      ]
    },
    {
      "cell_type": "code",
      "source": [
        "resnet.compile(\n",
        "    loss='sparse_categorical_crossentropy',\n",
        "    optimizer=Adam(),\n",
        "    metrics=['accuracy']\n",
        ")"
      ],
      "metadata": {
        "id": "9LOXlIA5u6xB"
      },
      "execution_count": 32,
      "outputs": []
    },
    {
      "cell_type": "code",
      "source": [
        "X_train_subsample.shape, X_validation_subsample.shape, Y_train_subsample.shape"
      ],
      "metadata": {
        "id": "CDL8f6K13CAg",
        "outputId": "4e6272a5-5e12-4031-e904-158f37d0ab3f",
        "colab": {
          "base_uri": "https://localhost:8080/"
        }
      },
      "execution_count": 33,
      "outputs": [
        {
          "output_type": "execute_result",
          "data": {
            "text/plain": [
              "((5000, 32, 32, 3), (45000, 32, 32, 3), (5000,))"
            ]
          },
          "metadata": {},
          "execution_count": 33
        }
      ]
    },
    {
      "cell_type": "code",
      "source": [
        "history = resnet.fit(\n",
        "    X_train_resnet,  # X_train_subsample,\n",
        "    Y_train_resnet.reshape(-1, 1),  # Y_train_subsample.reshape(-1, 1),\n",
        "    # validation_data=(\n",
        "        # X_validation_subsample, Y_validation_subsample.reshape(-1, 1)),\n",
        "    validation_data=(\n",
        "        X_validation_resnet, Y_validation_resnet\n",
        "    ),\n",
        "    batch_size=32,\n",
        "    epochs=3,\n",
        "    callbacks=[\n",
        "        EarlyStopping(\n",
        "            monitor='val_loss',\n",
        "            mode='min',\n",
        "            patience=3\n",
        "        )\n",
        "    ]\n",
        ")"
      ],
      "metadata": {
        "id": "3OsIhYjIx_Xn",
        "outputId": "557deb39-3d6a-4ab0-c00a-1a07690f12bb",
        "colab": {
          "base_uri": "https://localhost:8080/"
        }
      },
      "execution_count": null,
      "outputs": [
        {
          "output_type": "stream",
          "name": "stdout",
          "text": [
            "Epoch 1/3\n",
            "1406/1407 [============================>.] - ETA: 0s - loss: 1.4826 - accuracy: 0.4808"
          ]
        }
      ]
    },
    {
      "cell_type": "markdown",
      "source": [
        "# Plans\n",
        "- Full dataset\n",
        "- ResNet\n",
        "- Data augmentation\n",
        "- Hyperparameter fine-tuning\n",
        "- Pretrained networks"
      ],
      "metadata": {
        "id": "0ntlOZqM-V-W"
      }
    },
    {
      "cell_type": "code",
      "source": [],
      "metadata": {
        "id": "iX5mOjd2-cN_"
      },
      "execution_count": null,
      "outputs": []
    }
  ]
}